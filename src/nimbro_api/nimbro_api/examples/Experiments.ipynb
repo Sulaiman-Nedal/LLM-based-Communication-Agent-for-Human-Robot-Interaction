{
 "cells": [
  {
   "cell_type": "markdown",
   "metadata": {},
   "source": [
    "#### Install the `nimbro_api` and `nimbro_api_interfaces` packages:"
   ]
  },
  {
   "cell_type": "markdown",
   "metadata": {},
   "source": [
    "**1.:** Clone both repositories to the `src` folder of your ROS2 workspace."
   ]
  },
  {
   "cell_type": "markdown",
   "metadata": {},
   "source": [
    "**2.:** `colcon build --packages-select nimbro_api nimbro_api_interfaces --symlink-install`"
   ]
  },
  {
   "cell_type": "markdown",
   "metadata": {},
   "source": [
    "**3.:** `source install/local_setup.bash` "
   ]
  },
  {
   "cell_type": "markdown",
   "metadata": {},
   "source": [
    "## Install API keys"
   ]
  },
  {
   "cell_type": "markdown",
   "metadata": {},
   "source": [
    "#### Save the API keys you want to use to an environment variable:"
   ]
  },
  {
   "cell_type": "markdown",
   "metadata": {},
   "source": [
    "OpenAI: `echo \"export OPENAI_API_KEY='yourkey'\" >> ~/.bashrc`"
   ]
  },
  {
   "cell_type": "markdown",
   "metadata": {},
   "source": [
    "Mistral: `echo \"export MISTRAL_API_KEY='yourkey'\" >> ~/.bashrc`"
   ]
  },
  {
   "cell_type": "markdown",
   "metadata": {},
   "source": [
    "OpenRouter: `echo \"export OPENROUTER_API_KEY='yourkey'\" >> ~/.bashrc`"
   ]
  },
  {
   "cell_type": "markdown",
   "metadata": {},
   "source": [
    "vLLM: `echo \"export VLLM_API_KEY='yourkey'\" >> ~/.bashrc`"
   ]
  },
  {
   "cell_type": "markdown",
   "metadata": {},
   "source": [
    "## Launch"
   ]
  },
  {
   "cell_type": "markdown",
   "metadata": {},
   "source": [
    "#### Launch multiple completions nodes along with a completions_multiplexer node in your ROS2 environment. Each completions node represents a distinct LLM with its own context and set of model parameters, defined tools, etc. The completions_multiplexer node serves as a central communication hub, managing allocation and relaying interactions between the completions nodes and the user."
   ]
  },
  {
   "cell_type": "markdown",
   "metadata": {},
   "source": [
    "`ros2 launch nimbro_api launch.py` # 7 completions + completions_multiplexer + usage_monitor + images + speech + embeddings"
   ]
  },
  {
   "cell_type": "code",
   "execution_count": 1,
   "metadata": {
    "scrolled": true
   },
   "outputs": [],
   "source": [
    "import rclpy\n",
    "from rclpy.node import Node\n",
    "from nimbro_api.utils.string import levenshtein_match\n",
    "from nimbro_api.api_director import ApiDirector\n",
    "from nimbro_api.agent.tools import ToolBase, AgentBase, ToolLog, ToolTerminate, ToolTime, ToolWeather, ToolAccomplish, ToolSpeak\n",
    "from nimbro_api.utils.node import spin_node_with_multi_threaded_executor"
   ]
  },
  {
   "cell_type": "code",
   "execution_count": 2,
   "metadata": {},
   "outputs": [],
   "source": [
    "class RosNode(Node):\n",
    "    def __init__(self):\n",
    "        super().__init__('ros_node')\n",
    "        self.api_director = ApiDirector(self)\n",
    "rclpy.init()\n",
    "r = RosNode()"
   ]
  },
  {
   "cell_type": "code",
   "execution_count": 3,
   "metadata": {},
   "outputs": [],
   "source": [
    "class ToolSpeakNaive(ToolBase):\n",
    "\n",
    "    def __init__(self, parent, name=\"speak\"):\n",
    "        super().__init__(parent, name)\n",
    "        self.set_arguments([('person', str), ('text', str), ('requires_answer', bool)])\n",
    "\n",
    "    def define(self):\n",
    "        tool = {\n",
    "            'name': \"speak\",\n",
    "            'description': \"Speak to a person\",\n",
    "            'parameters': {\n",
    "                'type': 'object',\n",
    "                'properties': {\n",
    "                    'person': {\n",
    "                        'type': \"string\",\n",
    "                        'description': \"Specifies the person to speak to. Pass 'everyone' to address everyone in the robot's vicinity, rather than a specific person\"    \n",
    "                    },\n",
    "                    \"text\": {\n",
    "                        'type': \"string\",\n",
    "                        'description': \"Specifies the text to be said. Be friendly, concise, and helpful\"\n",
    "                    },\n",
    "                    \"requires_answer\": {\n",
    "                        'type': \"boolean\",\n",
    "                        'description': \"Signals that the spoken text requires an answer and makes the robot wait for it. The answer will then be returned with the response to this function call\"\n",
    "                    }\n",
    "                },\n",
    "                'required': ['person', \"text\", \"requires_answer\"]\n",
    "            }\n",
    "        }\n",
    "        return tool\n",
    "\n",
    "    def implement(self, args):\n",
    "        person, text, requires_answer = self.retrieve_args(args)\n",
    "        \n",
    "        self._node.get_logger().info(self._logger_prefix + text)\n",
    "\n",
    "        valid = True\n",
    "        success = True\n",
    "        print(f\"Robot: {args['text']}\")\n",
    "        \n",
    "        if requires_answer:\n",
    "            \n",
    "            answer = input(f\"{person}: \")\n",
    "            message = f\"The robot successfully said '{text}' to '{person}', who answered '{answer}'.\"\n",
    "        else:\n",
    "            message = f\"The robot successfully said '{text}' to '{person}'.\"\n",
    "        image = None\n",
    "\n",
    "        return valid, success, message, image"
   ]
  },
  {
   "cell_type": "markdown",
   "metadata": {},
   "source": [
    "# Test the new ToolSpeak tool"
   ]
  },
  {
   "cell_type": "code",
   "execution_count": 4,
   "metadata": {},
   "outputs": [
    {
     "data": {
      "text/plain": [
       "(True,\n",
       " \"Successfully initialized task: 'Ask my human friend Raphael how much he weighs.'\")"
      ]
     },
     "execution_count": 4,
     "metadata": {},
     "output_type": "execute_result"
    }
   ],
   "source": [
    "r.agent = AgentBase(r, completions_auto_release=False)\n",
    "r.agent.configure()\n",
    "r.agent.set_tools([\n",
    "    ToolTerminate(r.agent),\n",
    "    ToolSpeak(r.agent)\n",
    "]) \n",
    "r.agent.set_task(\"Ask my human friend Raphael how much he weighs.\")\n",
    "#r.agent.set_task(\"Ask my human friend Raphael how old he is.\")#Ask John if he wants pizza for lunch and confirm his choice.\n",
    "#r.agent.set_task(\"Ask John if he wants pizza for lunch and confirm his choice.\")#Ask John if he wants pizza for lunch and confirm his choice."
   ]
  },
  {
   "cell_type": "code",
   "execution_count": 5,
   "metadata": {
    "scrolled": true
   },
   "outputs": [
    {
     "name": "stdout",
     "output_type": "stream",
     "text": [
      "Robot: Hey Raphael! I hope you're doing well. I was wondering if you could share how much you weigh?\n",
      "Raphael: I way 1000 kg.\n",
      "\n",
      "Robot: Wow, that sounds quite heavy! Are you sure that's your weight? Could you please clarify?\n",
      "Raphael: No, I meant 100 kg.\n",
      "\n"
     ]
    },
    {
     "data": {
      "text/plain": [
       "(True,\n",
       " True,\n",
       " 'Successfully asked Raphael about his weight, and he clarified that he weighs 100 kg.',\n",
       " None)"
      ]
     },
     "execution_count": 5,
     "metadata": {},
     "output_type": "execute_result"
    }
   ],
   "source": [
    "r.agent.execute()"
   ]
  },
  {
   "cell_type": "code",
   "execution_count": 6,
   "metadata": {},
   "outputs": [
    {
     "name": "stdout",
     "output_type": "stream",
     "text": [
      "---\n",
      "\n",
      "{'role': 'user', 'content': [{'type': 'text', 'text': 'Ask my human friend Raphael how much he weighs.'}]}\n",
      "\n",
      "---\n",
      "\n",
      "{'role': 'assistant', 'content': None, 'tool_calls': [{'type': 'function', 'id': 'call_WGz6vc7EdsUm5EL1cMRAkXui', 'function': {'name': 'speak', 'arguments': '{\"person\":\"Raphael\",\"communication_objective\":\"I would like to know how much you weigh.\"}'}}]}\n",
      "\n",
      "---\n",
      "\n",
      "{'role': 'tool', 'tool_call_id': 'call_WGz6vc7EdsUm5EL1cMRAkXui', 'content': 'I successfully asked Raphael about his weight, and he clarified that he weighs 100 kg.'}\n",
      "\n",
      "---\n",
      "\n",
      "{'role': 'assistant', 'content': None, 'tool_calls': [{'type': 'function', 'id': 'call_n1v3gbDHnEzoRflobQ3OElgv', 'function': {'name': 'terminate_task_completion', 'arguments': '{\"success\":true,\"message\":\"Successfully asked Raphael about his weight, and he clarified that he weighs 100 kg.\"}'}}]}\n",
      "\n",
      "---\n"
     ]
    }
   ],
   "source": [
    "success, message, context = r.api_director.get_context(completions_id=r.agent._completions_id)\n",
    "if success:\n",
    "    for i, m in enumerate(context):\n",
    "        if i == 0:\n",
    "            print(\"---\\n\")\n",
    "        else:\n",
    "            print(\"\\n---\\n\")\n",
    "        if len(str(m)) > 1000:\n",
    "            print(\"image\")\n",
    "        else:\n",
    "            print(m)\n",
    "        if i == len(context) - 1:\n",
    "            print(\"\\n---\")"
   ]
  },
  {
   "cell_type": "code",
   "execution_count": 7,
   "metadata": {
    "scrolled": true
   },
   "outputs": [
    {
     "name": "stdout",
     "output_type": "stream",
     "text": [
      "---\n",
      "\n",
      "{'role': 'system', 'content': \"You are a communication assistant that must accomplish a communication objective. Don't give up easily and try again and again until the objective is accomplished. Interpret the user's answers at bare hand and make sure the answers provided by the user are sensible before stopping the conversation. Don't be too pushy, if you get your answer, thank the user then stop the conversation.\"}\n",
      "\n",
      "---\n",
      "\n",
      "{'role': 'user', 'content': [{'type': 'text', 'text': \"Accomplish the following communication objective directed at 'Raphael':I would like to know how much you weigh.\"}]}\n",
      "\n",
      "---\n",
      "\n",
      "{'role': 'assistant', 'content': None, 'tool_calls': [{'type': 'function', 'id': 'call_DEPXGJV6LS6CXo7Nw3K5LCiH', 'function': {'name': 'speak', 'arguments': '{\"text\":\"Hey Raphael! I hope you\\'re doing well. I was wondering if you could share how much you weigh?\",\"requires_answer\":true}'}}]}\n",
      "\n",
      "---\n",
      "\n",
      "{'role': 'tool', 'tool_call_id': 'call_DEPXGJV6LS6CXo7Nw3K5LCiH', 'content': \"The robot successfully said 'Hey Raphael! I hope you're doing well. I was wondering if you could share how much you weigh?' to 'Raphael', who gave an insensible answer 'I way 1000 kg.'. Ask for clarification.\"}\n",
      "\n",
      "---\n",
      "\n",
      "{'role': 'assistant', 'content': None, 'tool_calls': [{'type': 'function', 'id': 'call_0O9z06ZeYSh9ovL6mfwlhRDZ', 'function': {'name': 'speak', 'arguments': '{\"text\":\"Wow, that sounds quite heavy! Are you sure that\\'s your weight? Could you please clarify?\",\"requires_answer\":true}'}}]}\n",
      "\n",
      "---\n",
      "\n",
      "{'role': 'tool', 'tool_call_id': 'call_0O9z06ZeYSh9ovL6mfwlhRDZ', 'content': \"The robot successfully said 'Wow, that sounds quite heavy! Are you sure that's your weight? Could you please clarify?' to 'Raphael', who answered 'No, I meant 100 kg.'.\"}\n",
      "\n",
      "---\n",
      "\n",
      "{'role': 'assistant', 'content': None, 'tool_calls': [{'type': 'function', 'id': 'call_pxnshdMNCap4yZu8OwRkIfNR', 'function': {'name': 'stop_conversation', 'arguments': '{\"success\":true,\"message\":\"I successfully asked Raphael about his weight, and he clarified that he weighs 100 kg.\"}'}}]}\n",
      "\n",
      "---\n"
     ]
    }
   ],
   "source": [
    "i = [r.agent._tools[i]._name for i in range(len(r.agent._tools))].index(\"speak\")\n",
    "success, message, context = r.api_director.get_context(completions_id=r.agent._tools[i].session_id)\n",
    "if success:\n",
    "    for i, m in enumerate(context):\n",
    "        if i == 0:\n",
    "            print(\"---\\n\")\n",
    "        else:\n",
    "            print(\"\\n---\\n\")\n",
    "        if len(str(m)) > 1000:\n",
    "            print(\"image\")\n",
    "        else:\n",
    "            print(m)\n",
    "        if i == len(context) - 1:\n",
    "            print(\"\\n---\")"
   ]
  },
  {
   "cell_type": "markdown",
   "metadata": {},
   "source": [
    "# Test the ToolSpeakNaive"
   ]
  },
  {
   "cell_type": "code",
   "execution_count": 8,
   "metadata": {},
   "outputs": [],
   "source": [
    "class ToolSpeakNaive(ToolBase):\n",
    "\n",
    "    def __init__(self, parent, name=\"speak\"):\n",
    "        super().__init__(parent, name)\n",
    "        self.set_arguments([('person', str), ('text', str), ('requires_answer', bool)])\n",
    "\n",
    "    def define(self):\n",
    "        tool = {\n",
    "            'name': \"speak\",\n",
    "            'description': \"Speak to a person\",\n",
    "            'parameters': {\n",
    "                'type': 'object',\n",
    "                'properties': {\n",
    "                    'person': {\n",
    "                        'type': \"string\",\n",
    "                        'description': \"Specifies the person to speak to. Pass 'everyone' to address everyone in the robot's vicinity, rather than a specific person\"    \n",
    "                    },\n",
    "                    \"text\": {\n",
    "                        'type': \"string\",\n",
    "                        'description': \"Specifies the text to be said. Be friendly, concise, and helpful\"\n",
    "                    },\n",
    "                    \"requires_answer\": {\n",
    "                        'type': \"boolean\",\n",
    "                        'description': \"Signals that the spoken text requires an answer and makes the robot wait for it. The answer will then be returned with the response to this function call\"\n",
    "                    }\n",
    "                },\n",
    "                'required': ['person', \"text\", \"requires_answer\"]\n",
    "            }\n",
    "        }\n",
    "        return tool\n",
    "\n",
    "    def implement(self, args):\n",
    "        person, text, requires_answer = self.retrieve_args(args)\n",
    "        \n",
    "        self._node.get_logger().info(self._logger_prefix + text)\n",
    "\n",
    "        valid = True\n",
    "        success = True\n",
    "        print(f\"Robot: {args['text']}\")\n",
    "        \n",
    "        if requires_answer:\n",
    "            \n",
    "            answer = input(f\"{person}: \")\n",
    "            message = f\"The robot successfully said '{text}' to '{person}', who answered '{answer}'.\"\n",
    "        else:\n",
    "            message = f\"The robot successfully said '{text}' to '{person}'.\"\n",
    "        image = None\n",
    "\n",
    "        return valid, success, message, image"
   ]
  },
  {
   "cell_type": "code",
   "execution_count": 9,
   "metadata": {},
   "outputs": [
    {
     "data": {
      "text/plain": [
       "(True,\n",
       " \"Successfully updated task: 'Ask my human friend Raphael how much he weighs.'\")"
      ]
     },
     "execution_count": 9,
     "metadata": {},
     "output_type": "execute_result"
    }
   ],
   "source": [
    "r.agent.set_tools([\n",
    "    ToolTerminate(r.agent),\n",
    "    ToolSpeakNaive(r.agent),\n",
    "])\n",
    "#r.agent.set_task(\"Test the log tool, by telling a joke.\")\n",
    "# r.agent.set_task(\"Use the log tool to report the current time.\")\n",
    "#r.agent.set_task(\"Ask my human friend Raphael how old he is.\")\n",
    "#r.agent.set_task(\"Tell Raphael a joke.\")\n",
    "#r.agent.set_task(\"Ask John if he wants pizza for lunch and confirm his choice.\")#Ask John if he wants pizza for lunch and confirm his choice.\n",
    "#r.agent.set_task(\"Ask my human friend Raphael how old he is.\")#Ask John if he wants pizza for lunch and confirm his choice.\n",
    "r.agent.set_task(\"Ask my human friend Raphael how much he weighs.\")\n"
   ]
  },
  {
   "cell_type": "code",
   "execution_count": 11,
   "metadata": {
    "scrolled": true
   },
   "outputs": [
    {
     "name": "stdout",
     "output_type": "stream",
     "text": [
      "Robot: Hi Raphael, could you please tell me how much you weigh?\n",
      "Raphael: I am 1000 kg.\n"
     ]
    },
    {
     "data": {
      "text/plain": [
       "(True, True, 'Raphael responded that he weighs 1000 kg.', None)"
      ]
     },
     "execution_count": 11,
     "metadata": {},
     "output_type": "execute_result"
    }
   ],
   "source": [
    "r.agent.execute()"
   ]
  },
  {
   "cell_type": "code",
   "execution_count": 12,
   "metadata": {},
   "outputs": [
    {
     "name": "stdout",
     "output_type": "stream",
     "text": [
      "---\n",
      "\n",
      "{'role': 'user', 'content': [{'type': 'text', 'text': 'Ask my human friend Raphael how much he weighs.'}]}\n",
      "\n",
      "---\n",
      "\n",
      "{'role': 'assistant', 'content': None, 'tool_calls': [{'type': 'function', 'id': 'call_jG3AdzvRZGY0HCtDtCBgFDAx', 'function': {'name': 'speak', 'arguments': '{\"person\":\"Raphael\",\"text\":\"Hi Raphael, could you please tell me how much you weigh?\",\"requires_answer\":true}'}}]}\n",
      "\n",
      "---\n",
      "\n",
      "{'role': 'tool', 'tool_call_id': 'call_jG3AdzvRZGY0HCtDtCBgFDAx', 'content': \"The robot successfully said 'Hi Raphael, could you please tell me how much you weigh?' to 'Raphael', who answered 'I am 1000 kg.'.\"}\n",
      "\n",
      "---\n",
      "\n",
      "{'role': 'assistant', 'content': None, 'tool_calls': [{'type': 'function', 'id': 'call_xqyinubnBWVGs7rjKbBKeaFL', 'function': {'name': 'terminate_task_completion', 'arguments': '{\"success\":true,\"message\":\"Raphael responded that he weighs 1000 kg.\"}'}}]}\n",
      "\n",
      "---\n"
     ]
    }
   ],
   "source": [
    "success, message, context = r.api_director.get_context(completions_id=r.agent._completions_id)\n",
    "if success:\n",
    "    for i, m in enumerate(context):\n",
    "        if i == 0:\n",
    "            print(\"---\\n\")\n",
    "        else:\n",
    "            print(\"\\n---\\n\")\n",
    "        if len(str(m)) > 1000:\n",
    "            print(\"image\")\n",
    "        else:\n",
    "            print(m)\n",
    "        if i == len(context) - 1:\n",
    "            print(\"\\n---\")"
   ]
  }
 ],
 "metadata": {
  "kernelspec": {
   "display_name": "Python 3",
   "language": "python",
   "name": "python3"
  },
  "language_info": {
   "codemirror_mode": {
    "name": "ipython",
    "version": 3
   },
   "file_extension": ".py",
   "mimetype": "text/x-python",
   "name": "python",
   "nbconvert_exporter": "python",
   "pygments_lexer": "ipython3",
   "version": "3.8.10"
  }
 },
 "nbformat": 4,
 "nbformat_minor": 5
}
